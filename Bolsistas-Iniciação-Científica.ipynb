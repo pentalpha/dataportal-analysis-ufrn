{
 "cells": [
  {
   "cell_type": "markdown",
   "metadata": {
    "collapsed": true
   },
   "source": [
    "## Estudo em dados sobre bolsistas de iniciação científica da UFRN\n",
    "\n",
    "Um dos parâmetros para medir a qualidade de uma instituição de ensino, é o quanto ela investe em pesquisa e desenvolvimento, incentivando seus alunos a terem familiaridade com trabalhos científicos ainda na graduação. Desse modo, esse trabalho tem por objetivo fazer uma análise sobre os dados dos bolsistas de iniciação científica da UFRN e apresentar, de forma clara, algumas informações sobre eles.\n",
    "\n",
    "Trabalho desenvolvido com base de dados abertos da UFRN\n",
    "*http://dados.ufrn.br/"
   ]
  },
  {
   "cell_type": "code",
   "execution_count": 131,
   "metadata": {
    "collapsed": false
   },
   "outputs": [],
   "source": [
    "# Importar o Pandas\n",
    "import pandas as pd\n",
    "\n",
    "# Importar os dados de bolsistas-de-iniciacao-cientifica.csv\n",
    "data = pd.read_csv(\"bolsistas-de-iniciacao-cientifica.csv\", encoding = 'utf-8', sep = None, engine = 'python')"
   ]
  },
  {
   "cell_type": "code",
   "execution_count": 132,
   "metadata": {
    "collapsed": false
   },
   "outputs": [
    {
     "data": {
      "text/html": [
       "<div>\n",
       "<table border=\"1\" class=\"dataframe\">\n",
       "  <thead>\n",
       "    <tr style=\"text-align: right;\">\n",
       "      <th></th>\n",
       "      <th>matricula</th>\n",
       "      <th>discente</th>\n",
       "      <th>titulo</th>\n",
       "      <th>codigo_projeto</th>\n",
       "      <th>ano</th>\n",
       "      <th>orientador</th>\n",
       "      <th>categoria</th>\n",
       "      <th>tipo_de_bolsa</th>\n",
       "      <th>linha_pesquisa</th>\n",
       "      <th>base_pesquisa</th>\n",
       "      <th>cota</th>\n",
       "      <th>inicio</th>\n",
       "      <th>fim</th>\n",
       "      <th>unidade</th>\n",
       "      <th>status</th>\n",
       "    </tr>\n",
       "  </thead>\n",
       "  <tbody>\n",
       "    <tr>\n",
       "      <th>0</th>\n",
       "      <td>200504593</td>\n",
       "      <td>ABDON SILVA RIBEIRO DA CUNHA</td>\n",
       "      <td>Motivos de Adesão e Filiação ao Trabalho Volun...</td>\n",
       "      <td>PVE3275-2009</td>\n",
       "      <td>2009</td>\n",
       "      <td>WASHINGTON JOSE DE SOUSA</td>\n",
       "      <td>Iniciação Científica (IC)</td>\n",
       "      <td>PIBIC</td>\n",
       "      <td>Análise e Avaliação de Políticas Públicas;;;</td>\n",
       "      <td>NaN</td>\n",
       "      <td>2009-2010</td>\n",
       "      <td>2009-08-01</td>\n",
       "      <td>2009-12-25 00:00:00</td>\n",
       "      <td>DEPARTAMENTO DE CIÊNCIAS ADMINISTRATIVAS - DEP...</td>\n",
       "      <td>FINALIZADO</td>\n",
       "    </tr>\n",
       "    <tr>\n",
       "      <th>1</th>\n",
       "      <td>200504593</td>\n",
       "      <td>ABDON SILVA RIBEIRO DA CUNHA</td>\n",
       "      <td>O agronegócio da carcinicultura no RN e a estr...</td>\n",
       "      <td>PVE334-2007</td>\n",
       "      <td>2007</td>\n",
       "      <td>MARIANA BALDI</td>\n",
       "      <td>Iniciação Científica (IC)</td>\n",
       "      <td>PIBIC</td>\n",
       "      <td>Organizações e comportamento organizacional;;;</td>\n",
       "      <td>BASE DE ESTUDOS E PESQUISAS EM ESTRATÉGIAS E P...</td>\n",
       "      <td>2007-2008</td>\n",
       "      <td>2007-08-01</td>\n",
       "      <td>2008-07-31 00:00:00</td>\n",
       "      <td>CENTRO DE CIÊNCIAS SOCIAIS APLICADAS - CCSA</td>\n",
       "      <td>FINALIZADO</td>\n",
       "    </tr>\n",
       "    <tr>\n",
       "      <th>2</th>\n",
       "      <td>200504593</td>\n",
       "      <td>ABDON SILVA RIBEIRO DA CUNHA</td>\n",
       "      <td>Geração e disseminação da inovação na carcinic...</td>\n",
       "      <td>PVE2463-2008</td>\n",
       "      <td>2008</td>\n",
       "      <td>MARIANA BALDI</td>\n",
       "      <td>Iniciação Científica (IC)</td>\n",
       "      <td>PIBIC</td>\n",
       "      <td>Organizações e comportamento organizacional</td>\n",
       "      <td>BASE DE ESTUDOS E PESQUISAS EM ESTRATÉGIAS E P...</td>\n",
       "      <td>2008-2009</td>\n",
       "      <td>2008-08-25</td>\n",
       "      <td>2008-11-06 13:35:24.877</td>\n",
       "      <td>DEPARTAMENTO DE CIÊNCIAS ADMINISTRATIVAS - DEP...</td>\n",
       "      <td>FINALIZADO</td>\n",
       "    </tr>\n",
       "    <tr>\n",
       "      <th>3</th>\n",
       "      <td>200504593</td>\n",
       "      <td>ABDON SILVA RIBEIRO DA CUNHA</td>\n",
       "      <td>O agronegócio da carcinicultura no RN e a estr...</td>\n",
       "      <td>PVE334-2006</td>\n",
       "      <td>2006</td>\n",
       "      <td>MARIANA BALDI</td>\n",
       "      <td>Iniciação Científica (IC)</td>\n",
       "      <td>PROPESQ</td>\n",
       "      <td>Organizações e comportamento organizacional;;;</td>\n",
       "      <td>BASE DE ESTUDOS E PESQUISAS EM ESTRATÉGIAS E P...</td>\n",
       "      <td>2006-2007</td>\n",
       "      <td>2006-08-01</td>\n",
       "      <td>2007-07-31 00:00:00</td>\n",
       "      <td>CENTRO DE CIÊNCIAS SOCIAIS APLICADAS - CCSA</td>\n",
       "      <td>FINALIZADO</td>\n",
       "    </tr>\n",
       "    <tr>\n",
       "      <th>4</th>\n",
       "      <td>2011049415</td>\n",
       "      <td>ABEL LUIS DA SILVA NETO</td>\n",
       "      <td>Estudo de Antenas com Reflectarrays e suas Apl...</td>\n",
       "      <td>PVG6992-2013</td>\n",
       "      <td>2013</td>\n",
       "      <td>ADAILDO GOMES D ASSUNCAO</td>\n",
       "      <td>Iniciação Tecnológica (IT)</td>\n",
       "      <td>PIBIT</td>\n",
       "      <td>ANTENAS, PROPAGAÇÃO E COMUNICAÇÕES SEM FIO</td>\n",
       "      <td>GRUPO DE MICROONDAS E ANTENAS</td>\n",
       "      <td>2013-2014</td>\n",
       "      <td>2013-08-14</td>\n",
       "      <td>2014-06-26 00:00:00</td>\n",
       "      <td>DEPARTAMENTO DE ENGENHARIA DE COMUNICACOES - DCO</td>\n",
       "      <td>PENDENTE DE RELATORIO</td>\n",
       "    </tr>\n",
       "  </tbody>\n",
       "</table>\n",
       "</div>"
      ],
      "text/plain": [
       "    matricula                      discente  \\\n",
       "0   200504593  ABDON SILVA RIBEIRO DA CUNHA   \n",
       "1   200504593  ABDON SILVA RIBEIRO DA CUNHA   \n",
       "2   200504593  ABDON SILVA RIBEIRO DA CUNHA   \n",
       "3   200504593  ABDON SILVA RIBEIRO DA CUNHA   \n",
       "4  2011049415       ABEL LUIS DA SILVA NETO   \n",
       "\n",
       "                                              titulo codigo_projeto   ano  \\\n",
       "0  Motivos de Adesão e Filiação ao Trabalho Volun...   PVE3275-2009  2009   \n",
       "1  O agronegócio da carcinicultura no RN e a estr...    PVE334-2007  2007   \n",
       "2  Geração e disseminação da inovação na carcinic...   PVE2463-2008  2008   \n",
       "3  O agronegócio da carcinicultura no RN e a estr...    PVE334-2006  2006   \n",
       "4  Estudo de Antenas com Reflectarrays e suas Apl...   PVG6992-2013  2013   \n",
       "\n",
       "                 orientador                   categoria tipo_de_bolsa  \\\n",
       "0  WASHINGTON JOSE DE SOUSA   Iniciação Científica (IC)         PIBIC   \n",
       "1             MARIANA BALDI   Iniciação Científica (IC)         PIBIC   \n",
       "2             MARIANA BALDI   Iniciação Científica (IC)         PIBIC   \n",
       "3             MARIANA BALDI   Iniciação Científica (IC)       PROPESQ   \n",
       "4  ADAILDO GOMES D ASSUNCAO  Iniciação Tecnológica (IT)         PIBIT   \n",
       "\n",
       "                                   linha_pesquisa  \\\n",
       "0    Análise e Avaliação de Políticas Públicas;;;   \n",
       "1  Organizações e comportamento organizacional;;;   \n",
       "2     Organizações e comportamento organizacional   \n",
       "3  Organizações e comportamento organizacional;;;   \n",
       "4      ANTENAS, PROPAGAÇÃO E COMUNICAÇÕES SEM FIO   \n",
       "\n",
       "                                       base_pesquisa       cota      inicio  \\\n",
       "0                                                NaN  2009-2010  2009-08-01   \n",
       "1  BASE DE ESTUDOS E PESQUISAS EM ESTRATÉGIAS E P...  2007-2008  2007-08-01   \n",
       "2  BASE DE ESTUDOS E PESQUISAS EM ESTRATÉGIAS E P...  2008-2009  2008-08-25   \n",
       "3  BASE DE ESTUDOS E PESQUISAS EM ESTRATÉGIAS E P...  2006-2007  2006-08-01   \n",
       "4                      GRUPO DE MICROONDAS E ANTENAS  2013-2014  2013-08-14   \n",
       "\n",
       "                       fim                                            unidade  \\\n",
       "0      2009-12-25 00:00:00  DEPARTAMENTO DE CIÊNCIAS ADMINISTRATIVAS - DEP...   \n",
       "1      2008-07-31 00:00:00        CENTRO DE CIÊNCIAS SOCIAIS APLICADAS - CCSA   \n",
       "2  2008-11-06 13:35:24.877  DEPARTAMENTO DE CIÊNCIAS ADMINISTRATIVAS - DEP...   \n",
       "3      2007-07-31 00:00:00        CENTRO DE CIÊNCIAS SOCIAIS APLICADAS - CCSA   \n",
       "4      2014-06-26 00:00:00   DEPARTAMENTO DE ENGENHARIA DE COMUNICACOES - DCO   \n",
       "\n",
       "                  status  \n",
       "0             FINALIZADO  \n",
       "1             FINALIZADO  \n",
       "2             FINALIZADO  \n",
       "3             FINALIZADO  \n",
       "4  PENDENTE DE RELATORIO  "
      ]
     },
     "execution_count": 132,
     "metadata": {},
     "output_type": "execute_result"
    }
   ],
   "source": [
    "data.head()"
   ]
  },
  {
   "cell_type": "markdown",
   "metadata": {},
   "source": [
    "### Tratamento dos dados"
   ]
  },
  {
   "cell_type": "code",
   "execution_count": 133,
   "metadata": {
    "collapsed": false
   },
   "outputs": [
    {
     "data": {
      "text/plain": [
       "['matricula',\n",
       " 'discente',\n",
       " 'titulo',\n",
       " 'codigo_projeto',\n",
       " 'ano',\n",
       " 'orientador',\n",
       " 'categoria',\n",
       " 'tipo_de_bolsa',\n",
       " 'linha_pesquisa',\n",
       " 'base_pesquisa',\n",
       " 'cota',\n",
       " 'inicio',\n",
       " 'fim',\n",
       " 'unidade',\n",
       " 'status']"
      ]
     },
     "execution_count": 133,
     "metadata": {},
     "output_type": "execute_result"
    }
   ],
   "source": [
    "#Colunas da matriz de dados\n",
    "data.columns.values.tolist()\n",
    "\n",
    "##Colunas dispensáveis para esse projeto: discente, código projeto"
   ]
  },
  {
   "cell_type": "code",
   "execution_count": 134,
   "metadata": {
    "collapsed": true
   },
   "outputs": [],
   "source": [
    "# Removendo-as...\n",
    "data.drop(data.columns[1], axis=1, inplace=True)\n",
    "data.drop(data.columns[2], axis=1, inplace=True)"
   ]
  },
  {
   "cell_type": "code",
   "execution_count": 135,
   "metadata": {
    "collapsed": false
   },
   "outputs": [
    {
     "name": "stdout",
     "output_type": "stream",
     "text": [
      "<class 'pandas.core.frame.DataFrame'>\n",
      "RangeIndex: 26473 entries, 0 to 26472\n",
      "Data columns (total 13 columns):\n",
      "matricula         26473 non-null int64\n",
      "titulo            26464 non-null object\n",
      "ano               26473 non-null int64\n",
      "orientador        26473 non-null object\n",
      "categoria         26473 non-null object\n",
      "tipo_de_bolsa     26473 non-null object\n",
      "linha_pesquisa    25610 non-null object\n",
      "base_pesquisa     22210 non-null object\n",
      "cota              26473 non-null object\n",
      "inicio            26468 non-null object\n",
      "fim               23323 non-null object\n",
      "unidade           26473 non-null object\n",
      "status            26473 non-null object\n",
      "dtypes: int64(2), object(11)\n",
      "memory usage: 2.6+ MB\n"
     ]
    }
   ],
   "source": [
    "#Número de entradas: 26473\n",
    "data.info()\n",
    "#Dados não obrigatórios: título, linha_pesquisa, base_pesquisa, cota, inicio, fim"
   ]
  },
  {
   "cell_type": "code",
   "execution_count": 136,
   "metadata": {
    "collapsed": false
   },
   "outputs": [
    {
     "name": "stdout",
     "output_type": "stream",
     "text": [
      "<class 'pandas.core.frame.DataFrame'>\n",
      "Int64Index: 11101 entries, 1668 to 14065\n",
      "Data columns (total 13 columns):\n",
      "matricula         11101 non-null int64\n",
      "titulo            11101 non-null object\n",
      "ano               11101 non-null int64\n",
      "orientador        11101 non-null object\n",
      "categoria         11101 non-null object\n",
      "tipo_de_bolsa     11101 non-null object\n",
      "linha_pesquisa    10693 non-null object\n",
      "base_pesquisa     9121 non-null object\n",
      "cota              11101 non-null object\n",
      "inicio            11101 non-null object\n",
      "fim               8015 non-null object\n",
      "unidade           11101 non-null object\n",
      "status            11101 non-null object\n",
      "dtypes: int64(2), object(11)\n",
      "memory usage: 1.2+ MB\n"
     ]
    }
   ],
   "source": [
    "#De modo a deixar a análise mais concisa, vamos fazer a análise dos dados dos ultimos 5 anos.\n",
    "\n",
    "#Ordena dados por ano\n",
    "data = data.sort_values(data.columns[2], ascending = True)\n",
    "                 \n",
    "#Dados dos últimos 5 anos\n",
    "data = data[data['ano'] > 2012]\n",
    "\n",
    "#Diminuição do número de dados: 11101 entradas\n",
    "data.info()"
   ]
  },
  {
   "cell_type": "code",
   "execution_count": 137,
   "metadata": {
    "collapsed": false
   },
   "outputs": [
    {
     "data": {
      "text/html": [
       "<div>\n",
       "<table border=\"1\" class=\"dataframe\">\n",
       "  <thead>\n",
       "    <tr style=\"text-align: right;\">\n",
       "      <th></th>\n",
       "      <th>matricula</th>\n",
       "      <th>titulo</th>\n",
       "      <th>ano</th>\n",
       "      <th>orientador</th>\n",
       "      <th>categoria</th>\n",
       "      <th>tipo_de_bolsa</th>\n",
       "      <th>linha_pesquisa</th>\n",
       "      <th>base_pesquisa</th>\n",
       "      <th>cota</th>\n",
       "      <th>inicio</th>\n",
       "      <th>fim</th>\n",
       "      <th>unidade</th>\n",
       "      <th>status</th>\n",
       "    </tr>\n",
       "  </thead>\n",
       "  <tbody>\n",
       "    <tr>\n",
       "      <th>1668</th>\n",
       "      <td>2013047581</td>\n",
       "      <td>JOVENS TALENTOS - DIREITO</td>\n",
       "      <td>2013</td>\n",
       "      <td>ANA BEATRIZ FERREIRA REBELLO</td>\n",
       "      <td>Iniciação Científica (IC)</td>\n",
       "      <td>JOVENS TALENTOS</td>\n",
       "      <td>NaN</td>\n",
       "      <td>NaN</td>\n",
       "      <td>JOVENS TALENTOS 2013-2014</td>\n",
       "      <td>2013-08-01</td>\n",
       "      <td>2014-07-31 00:00:00</td>\n",
       "      <td>PRÓ-REITORIA DE PESQUISA - PROPESQ</td>\n",
       "      <td>FINALIZADO</td>\n",
       "    </tr>\n",
       "    <tr>\n",
       "      <th>968</th>\n",
       "      <td>2014018584</td>\n",
       "      <td>Efeito de fatores ambientais no envelhecimento...</td>\n",
       "      <td>2013</td>\n",
       "      <td>JOSE DANIEL DINIZ MELO</td>\n",
       "      <td>Iniciação Científica (IC)</td>\n",
       "      <td>PIBIC</td>\n",
       "      <td>Materiais compósitos poliméricos;;;</td>\n",
       "      <td>MATERIAIS COMPÓSITOS E CERÂMICOS</td>\n",
       "      <td>2014-2015</td>\n",
       "      <td>2014-08-09</td>\n",
       "      <td>2015-07-31 00:00:00</td>\n",
       "      <td>DEPARTAMENTO DE ENGENHARIA DE MATERIAIS - DEPT...</td>\n",
       "      <td>FINALIZADO</td>\n",
       "    </tr>\n",
       "    <tr>\n",
       "      <th>1639</th>\n",
       "      <td>2011043387</td>\n",
       "      <td>Fungos Micorrízicos Arbusculares em gradiente ...</td>\n",
       "      <td>2013</td>\n",
       "      <td>BRUNO TOMIO GOTO</td>\n",
       "      <td>Iniciação Científica (IC)</td>\n",
       "      <td>PROPESQ</td>\n",
       "      <td>Biodiversidade vegetal e funcionamento de ecos...</td>\n",
       "      <td>Ecologia de Populações e Comunidades Vegetais ...</td>\n",
       "      <td>2014</td>\n",
       "      <td>2014-02-13</td>\n",
       "      <td>2015-07-31 00:00:00</td>\n",
       "      <td>DEPARTAMENTO DE BOTÂNICA E ZOOLOGIA - DBEZ/CB</td>\n",
       "      <td>FINALIZADO</td>\n",
       "    </tr>\n",
       "    <tr>\n",
       "      <th>1688</th>\n",
       "      <td>2012910227</td>\n",
       "      <td>Transferindo informações sobre arquitetura ecl...</td>\n",
       "      <td>2013</td>\n",
       "      <td>EDJA BEZERRA FARIA TRIGUEIRO</td>\n",
       "      <td>Iniciação Científica (IC)</td>\n",
       "      <td>REUNI</td>\n",
       "      <td>Morfologia e história da arquitetura</td>\n",
       "      <td>MORFOLOGIA E USOS DA ARQUITETURA - MUsA</td>\n",
       "      <td>2013</td>\n",
       "      <td>2013-03-04</td>\n",
       "      <td>2013-06-19 00:00:00</td>\n",
       "      <td>DEPARTAMENTO DE ARQUITETURA - ARQ/CT</td>\n",
       "      <td>FINALIZADO</td>\n",
       "    </tr>\n",
       "    <tr>\n",
       "      <th>18079</th>\n",
       "      <td>2012961638</td>\n",
       "      <td>A Atenção Primária e o direito à saúde em Nata...</td>\n",
       "      <td>2013</td>\n",
       "      <td>EDLA HOFFMANN</td>\n",
       "      <td>Iniciação Científica (IC)</td>\n",
       "      <td>NUPLAM</td>\n",
       "      <td>Estado, Sociedade, Políticas Sociais e Direitos</td>\n",
       "      <td>Grupo de Estudos e Pesquisas em Questão Social...</td>\n",
       "      <td>2014</td>\n",
       "      <td>2015-04-07</td>\n",
       "      <td>2015-07-31 00:00:00</td>\n",
       "      <td>DEPARTAMENTO DE SERVIÇO SOCIAL - DESSO/CCSA</td>\n",
       "      <td>FINALIZADO</td>\n",
       "    </tr>\n",
       "  </tbody>\n",
       "</table>\n",
       "</div>"
      ],
      "text/plain": [
       "        matricula                                             titulo   ano  \\\n",
       "1668   2013047581                          JOVENS TALENTOS - DIREITO  2013   \n",
       "968    2014018584  Efeito de fatores ambientais no envelhecimento...  2013   \n",
       "1639   2011043387  Fungos Micorrízicos Arbusculares em gradiente ...  2013   \n",
       "1688   2012910227  Transferindo informações sobre arquitetura ecl...  2013   \n",
       "18079  2012961638  A Atenção Primária e o direito à saúde em Nata...  2013   \n",
       "\n",
       "                         orientador                  categoria  \\\n",
       "1668   ANA BEATRIZ FERREIRA REBELLO  Iniciação Científica (IC)   \n",
       "968          JOSE DANIEL DINIZ MELO  Iniciação Científica (IC)   \n",
       "1639               BRUNO TOMIO GOTO  Iniciação Científica (IC)   \n",
       "1688   EDJA BEZERRA FARIA TRIGUEIRO  Iniciação Científica (IC)   \n",
       "18079                 EDLA HOFFMANN  Iniciação Científica (IC)   \n",
       "\n",
       "         tipo_de_bolsa                                     linha_pesquisa  \\\n",
       "1668   JOVENS TALENTOS                                                NaN   \n",
       "968              PIBIC                Materiais compósitos poliméricos;;;   \n",
       "1639           PROPESQ  Biodiversidade vegetal e funcionamento de ecos...   \n",
       "1688             REUNI               Morfologia e história da arquitetura   \n",
       "18079           NUPLAM    Estado, Sociedade, Políticas Sociais e Direitos   \n",
       "\n",
       "                                           base_pesquisa  \\\n",
       "1668                                                 NaN   \n",
       "968                     MATERIAIS COMPÓSITOS E CERÂMICOS   \n",
       "1639   Ecologia de Populações e Comunidades Vegetais ...   \n",
       "1688             MORFOLOGIA E USOS DA ARQUITETURA - MUsA   \n",
       "18079  Grupo de Estudos e Pesquisas em Questão Social...   \n",
       "\n",
       "                            cota      inicio                  fim  \\\n",
       "1668   JOVENS TALENTOS 2013-2014  2013-08-01  2014-07-31 00:00:00   \n",
       "968                    2014-2015  2014-08-09  2015-07-31 00:00:00   \n",
       "1639                        2014  2014-02-13  2015-07-31 00:00:00   \n",
       "1688                        2013  2013-03-04  2013-06-19 00:00:00   \n",
       "18079                       2014  2015-04-07  2015-07-31 00:00:00   \n",
       "\n",
       "                                                 unidade      status  \n",
       "1668                  PRÓ-REITORIA DE PESQUISA - PROPESQ  FINALIZADO  \n",
       "968    DEPARTAMENTO DE ENGENHARIA DE MATERIAIS - DEPT...  FINALIZADO  \n",
       "1639       DEPARTAMENTO DE BOTÂNICA E ZOOLOGIA - DBEZ/CB  FINALIZADO  \n",
       "1688                DEPARTAMENTO DE ARQUITETURA - ARQ/CT  FINALIZADO  \n",
       "18079        DEPARTAMENTO DE SERVIÇO SOCIAL - DESSO/CCSA  FINALIZADO  "
      ]
     },
     "execution_count": 137,
     "metadata": {},
     "output_type": "execute_result"
    }
   ],
   "source": [
    "data.head()"
   ]
  },
  {
   "cell_type": "markdown",
   "metadata": {},
   "source": [
    "## Análise dos dados: Tipos de bolsa\n",
    "Vamos verificar então a distribuição dos tipos de bolsas entre os alunos"
   ]
  },
  {
   "cell_type": "code",
   "execution_count": 187,
   "metadata": {
    "collapsed": false
   },
   "outputs": [],
   "source": [
    "tipos_bolsa = data['tipo_de_bolsa'].reset_index()\n",
    "\n",
    "#Novo dataframe com quantidade de cada bolsa\n",
    "tipos_bolsa['count'] = 0\n",
    "tipos_bolsa = pd.DataFrame(results.groupby(['tipo_de_bolsa'])['count'].count()).reset_index()"
   ]
  },
  {
   "cell_type": "code",
   "execution_count": 195,
   "metadata": {
    "collapsed": false
   },
   "outputs": [
    {
     "data": {
      "text/html": [
       "<div>\n",
       "<table border=\"1\" class=\"dataframe\">\n",
       "  <thead>\n",
       "    <tr style=\"text-align: right;\">\n",
       "      <th></th>\n",
       "      <th>tipo_de_bolsa</th>\n",
       "      <th>count</th>\n",
       "    </tr>\n",
       "  </thead>\n",
       "  <tbody>\n",
       "    <tr>\n",
       "      <th>0</th>\n",
       "      <td>BALCÃO</td>\n",
       "      <td>1</td>\n",
       "    </tr>\n",
       "    <tr>\n",
       "      <th>1</th>\n",
       "      <td>Bolsas de IC/IT -PICME</td>\n",
       "      <td>5</td>\n",
       "    </tr>\n",
       "    <tr>\n",
       "      <th>2</th>\n",
       "      <td>ECT</td>\n",
       "      <td>2</td>\n",
       "    </tr>\n",
       "    <tr>\n",
       "      <th>3</th>\n",
       "      <td>FUNTTEL</td>\n",
       "      <td>8</td>\n",
       "    </tr>\n",
       "    <tr>\n",
       "      <th>4</th>\n",
       "      <td>JOVENS TALENTOS</td>\n",
       "      <td>371</td>\n",
       "    </tr>\n",
       "  </tbody>\n",
       "</table>\n",
       "</div>"
      ],
      "text/plain": [
       "            tipo_de_bolsa  count\n",
       "0                  BALCÃO      1\n",
       "1  Bolsas de IC/IT -PICME      5\n",
       "2                     ECT      2\n",
       "3                 FUNTTEL      8\n",
       "4         JOVENS TALENTOS    371"
      ]
     },
     "execution_count": 195,
     "metadata": {},
     "output_type": "execute_result"
    }
   ],
   "source": [
    "tipos_bolsa.head()"
   ]
  },
  {
   "cell_type": "code",
   "execution_count": 210,
   "metadata": {
    "collapsed": false
   },
   "outputs": [
    {
     "data": {
      "image/png": "[encoded data removed]",
      "text/plain": [
       "<matplotlib.figure.Figure at 0x2939cfa9198>"
      ]
     },
     "metadata": {},
     "output_type": "display_data"
    }
   ],
   "source": [
    "import matplotlib.pyplot as plt\n",
    "\n",
    "ax = tipos_bolsa['count'].plot(kind='bar', title =\"Distribuição de bolsas da UFRN\", figsize=(13, 10), legend=False, fontsize=12)\n",
    "ax.set_xlabel(\"Tipos de Bolsa\", fontsize=12)\n",
    "ax.set_ylabel(\"Quantidade\", fontsize=12)\n",
    "plt.show()"
   ]
  },
  {
   "cell_type": "code",
   "execution_count": null,
   "metadata": {
    "collapsed": true
   },
   "outputs": [],
   "source": []
  }
 ],
 "metadata": {
  "anaconda-cloud": {},
  "kernelspec": {
   "display_name": "Python [conda root]",
   "language": "python",
   "name": "conda-root-py"
  },
  "language_info": {
   "codemirror_mode": {
    "name": "ipython",
    "version": 3
   },
   "file_extension": ".py",
   "mimetype": "text/x-python",
   "name": "python",
   "nbconvert_exporter": "python",
   "pygments_lexer": "ipython3",
   "version": "3.5.2"
  }
 },
 "nbformat": 4,
 "nbformat_minor": 1
}
